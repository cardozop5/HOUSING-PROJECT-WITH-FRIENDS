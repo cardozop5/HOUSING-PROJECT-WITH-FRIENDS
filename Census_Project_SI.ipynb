{
 "cells": [
  {
   "cell_type": "code",
   "execution_count": 177,
   "metadata": {},
   "outputs": [],
   "source": [
    "# Dependencies\n",
    "import numpy as np\n",
    "import pandas as pd\n",
    "import matplotlib.pyplot as plt\n",
    "import requests\n",
    "from census import Census\n",
    "\n",
    "# Census API Key\n",
    "from config import api_key\n"
   ]
  },
  {
   "cell_type": "code",
   "execution_count": 178,
   "metadata": {},
   "outputs": [
    {
     "name": "stdout",
     "output_type": "stream",
     "text": [
      "133\n"
     ]
    },
    {
     "data": {
      "text/plain": [
       "Zipcode            float64\n",
       "Population_2017    float64\n",
       "dtype: object"
      ]
     },
     "execution_count": 178,
     "metadata": {},
     "output_type": "execute_result"
    }
   ],
   "source": [
    "c = Census(api_key, year=2017)\n",
    "census_data = c.acs5.get((\"NAME\", \"B01003_001E\"), {'for': 'zip code tabulation area:77001,77002,77003,77004,77005,77006,77007,77008,77009,77010,77011,77012,77013,77014,77015,77016,77017,77018,77019,77020,77021,77022,77023,77024,77025,77026,77027,77028,77029,77030,77031,77032,77033,77034,77035,77036,77037,77038,77039,77040,77041,77042,77043,77044,77045,77046,77047,77048,77049,77050,77051,77052,77054,77055,77056,77057,77058,77059,77060,77061,77062,77063,77064,77065,77066,77067,77068,77069,77070,77071,77072,77073,77074,77075,77076,77077,77078,77079,77080,77081,77082,77083,77084,77085,77086,77087,77088,77089,77090,77091,77092,77093,77094,77095,77096,77097,77098,77099,77201,77202,77203,77205,77206,77207,77208,77210,77212,77213,77215,77217,77218,77219,77220,77221,77222,77223,77224,77225,77226,77227,77228,77229,77230,77231,77233,77234,77235,77236,77237,77238,77240,77241,77242,77243,77244,77245,77248,77249,77251,77252,77253,77254,77255,77256,77257,77258,77259,77261,77262,77263,77265,77266,77267,77268,77269,77270,77271,77272,77273,77274,77275,77277,77279,77280,77281,77282,77284,77287,77288,77289,77290,77291,77292,77293,77315,77325,77336,77337,77338,77339,77345,77346,77347,77373,77375,77377,77379,77383,77388,77389,77391,77396,77401,77402,77410,77411,77413,77429,77433,77447,77449,77450,77484,77491,77492,77493,77501,77502,77503,77504,77505,77506,77507,77508,77520,77521,77522,77530,77532,77536,77547,77562,77571,77572,77586,77587,77598'})\n",
    "\n",
    "#census_data\n",
    "\n",
    "# Convert to DataFrame\n",
    "census_pd = pd.DataFrame(census_data)\n",
    "\n",
    "# Column Reordering\n",
    "census_pd = census_pd.rename(columns={\"B01003_001E\": \"Population_2017\",\n",
    "                                      \"NAME\": \"Name\", \"zip code tabulation area\": \"Zipcode\"})\n",
    "\n",
    "#Final DataFrame\n",
    "census_pd = census_pd[[\"Zipcode\",\"Population_2017\"]]\n",
    "\n",
    "print(len(census_pd))\n",
    "\n",
    "#census_pd.sort_values(\"Zipcode\")\n",
    "\n",
    "#converting object to float\n",
    "census_pd[\"Zipcode\"] = census_pd.Zipcode.astype(float)\n",
    "\n",
    "census_pd.dtypes"
   ]
  },
  {
   "cell_type": "code",
   "execution_count": 179,
   "metadata": {},
   "outputs": [],
   "source": [
    "bins = [77000, 77299, 77315, 77325, 77336, 77337, 77338, 77345, 77347, 77373, 77377, 77391, 77396, 77402, 77410, 77411, 77413, 77433, 77447, 77450, 77484, 77493, 77508, 77522, 77530, 77532, 77536, 77547, 77562, 77572, 77586, 77587, 77598]\n",
    "\n",
    "group_names = [\"Houston\", \"North Houston\", \"Kingwood\", \"Huffman\", \"Hufsmith\", \"Humble\", \"Kingwood2\", \"Humble2\", \"Spring\", \"Tomball\", \"Spring2\", \"Humble3\", \"Bellaire\", \"Cypress\", \"Alief\", \"Barker\", \"Cypress2\", \"Hockley\", \"Katy\", \"Waller\", \"Katy2\", \"Pasadena\", \"Baytown\", \"Channelview\", \"Crosby\", \"Deer Park\", \"Galena Park\", \"Highlands\", \"La Porte\", \"Seabrook\", \"South Houston\", \"Webster\"]\n",
    "\n",
    "census_pd[\"Cities_by_Zipcodes\"] = pd.cut(census_pd[\"Zipcode\"], bins, labels = group_names)\n",
    "\n",
    "#census_pd\n",
    "\n"
   ]
  },
  {
   "cell_type": "code",
   "execution_count": 180,
   "metadata": {},
   "outputs": [
    {
     "data": {
      "text/html": [
       "<div>\n",
       "<style scoped>\n",
       "    .dataframe tbody tr th:only-of-type {\n",
       "        vertical-align: middle;\n",
       "    }\n",
       "\n",
       "    .dataframe tbody tr th {\n",
       "        vertical-align: top;\n",
       "    }\n",
       "\n",
       "    .dataframe thead th {\n",
       "        text-align: right;\n",
       "    }\n",
       "</style>\n",
       "<table border=\"1\" class=\"dataframe\">\n",
       "  <thead>\n",
       "    <tr style=\"text-align: right;\">\n",
       "      <th></th>\n",
       "      <th>Zipcode</th>\n",
       "      <th>Population_2017</th>\n",
       "    </tr>\n",
       "    <tr>\n",
       "      <th>Cities_by_Zipcodes</th>\n",
       "      <th></th>\n",
       "      <th></th>\n",
       "    </tr>\n",
       "  </thead>\n",
       "  <tbody>\n",
       "    <tr>\n",
       "      <th>Houston</th>\n",
       "      <td>7396948.0</td>\n",
       "      <td>3124010.0</td>\n",
       "    </tr>\n",
       "    <tr>\n",
       "      <th>North Houston</th>\n",
       "      <td>0.0</td>\n",
       "      <td>0.0</td>\n",
       "    </tr>\n",
       "    <tr>\n",
       "      <th>Kingwood</th>\n",
       "      <td>0.0</td>\n",
       "      <td>0.0</td>\n",
       "    </tr>\n",
       "    <tr>\n",
       "      <th>Huffman</th>\n",
       "      <td>77336.0</td>\n",
       "      <td>12397.0</td>\n",
       "    </tr>\n",
       "    <tr>\n",
       "      <th>Hufsmith</th>\n",
       "      <td>0.0</td>\n",
       "      <td>0.0</td>\n",
       "    </tr>\n",
       "  </tbody>\n",
       "</table>\n",
       "</div>"
      ],
      "text/plain": [
       "                      Zipcode  Population_2017\n",
       "Cities_by_Zipcodes                            \n",
       "Houston             7396948.0        3124010.0\n",
       "North Houston             0.0              0.0\n",
       "Kingwood                  0.0              0.0\n",
       "Huffman               77336.0          12397.0\n",
       "Hufsmith                  0.0              0.0"
      ]
     },
     "execution_count": 180,
     "metadata": {},
     "output_type": "execute_result"
    }
   ],
   "source": [
    "grouped = census_pd.groupby([\"Cities_by_Zipcodes\"])\n",
    "pop2017 = grouped.sum()\n",
    "pop2017.sort_values(\"Population_2017\", ascending=False)\n",
    "pop2017.head()"
   ]
  },
  {
   "cell_type": "code",
   "execution_count": 181,
   "metadata": {
    "scrolled": true
   },
   "outputs": [],
   "source": [
    "# Save as a csv\n",
    "# Note to avoid any issues later, use encoding=\"utf-8\"\n",
    "pop2017.to_csv(\"census_data_2017.csv\", columns=[\"Population_2017\"], encoding=\"utf-8\", index=True)"
   ]
  },
  {
   "cell_type": "code",
   "execution_count": null,
   "metadata": {},
   "outputs": [],
   "source": []
  },
  {
   "cell_type": "code",
   "execution_count": 182,
   "metadata": {},
   "outputs": [
    {
     "name": "stdout",
     "output_type": "stream",
     "text": [
      "133\n"
     ]
    },
    {
     "data": {
      "text/plain": [
       "Zipcode            float64\n",
       "Population_2016    float64\n",
       "dtype: object"
      ]
     },
     "execution_count": 182,
     "metadata": {},
     "output_type": "execute_result"
    }
   ],
   "source": [
    "#2016 population\n",
    "c2016 = Census(api_key, year=2016)\n",
    "census_data_2016 = c2016.acs5.get((\"NAME\", \"B01003_001E\"), {'for': 'zip code tabulation area:77001,77002,77003,77004,77005,77006,77007,77008,77009,77010,77011,77012,77013,77014,77015,77016,77017,77018,77019,77020,77021,77022,77023,77024,77025,77026,77027,77028,77029,77030,77031,77032,77033,77034,77035,77036,77037,77038,77039,77040,77041,77042,77043,77044,77045,77046,77047,77048,77049,77050,77051,77052,77054,77055,77056,77057,77058,77059,77060,77061,77062,77063,77064,77065,77066,77067,77068,77069,77070,77071,77072,77073,77074,77075,77076,77077,77078,77079,77080,77081,77082,77083,77084,77085,77086,77087,77088,77089,77090,77091,77092,77093,77094,77095,77096,77097,77098,77099,77201,77202,77203,77205,77206,77207,77208,77210,77212,77213,77215,77217,77218,77219,77220,77221,77222,77223,77224,77225,77226,77227,77228,77229,77230,77231,77233,77234,77235,77236,77237,77238,77240,77241,77242,77243,77244,77245,77248,77249,77251,77252,77253,77254,77255,77256,77257,77258,77259,77261,77262,77263,77265,77266,77267,77268,77269,77270,77271,77272,77273,77274,77275,77277,77279,77280,77281,77282,77284,77287,77288,77289,77290,77291,77292,77293,77315,77325,77336,77337,77338,77339,77345,77346,77347,77373,77375,77377,77379,77383,77388,77389,77391,77396,77401,77402,77410,77411,77413,77429,77433,77447,77449,77450,77484,77491,77492,77493,77501,77502,77503,77504,77505,77506,77507,77508,77520,77521,77522,77530,77532,77536,77547,77562,77571,77572,77586,77587,77598'})\n",
    "\n",
    "#census_data_2016\n",
    "\n",
    "# Convert to DataFrame\n",
    "census_pd6 = pd.DataFrame(census_data_2016)\n",
    "\n",
    "# Column Reordering\n",
    "census_pd6 = census_pd6.rename(columns={\"B01003_001E\": \"Population_2016\",\n",
    "                                      \"NAME\": \"Name\", \"zip code tabulation area\": \"Zipcode\"})\n",
    "\n",
    "#Final DataFrame\n",
    "census_pd6 = census_pd6[[\"Zipcode\",\"Population_2016\"]]\n",
    "\n",
    "print(len(census_pd6))\n",
    "\n",
    "#census_pd6\n",
    "#census_pd6.sort_values(\"Zipcode\")\n",
    "\n",
    "#converting object to float\n",
    "census_pd6[\"Zipcode\"] = census_pd6.Zipcode.astype(float)\n",
    "census_pd6.dtypes"
   ]
  },
  {
   "cell_type": "code",
   "execution_count": 183,
   "metadata": {},
   "outputs": [
    {
     "data": {
      "text/html": [
       "<div>\n",
       "<style scoped>\n",
       "    .dataframe tbody tr th:only-of-type {\n",
       "        vertical-align: middle;\n",
       "    }\n",
       "\n",
       "    .dataframe tbody tr th {\n",
       "        vertical-align: top;\n",
       "    }\n",
       "\n",
       "    .dataframe thead th {\n",
       "        text-align: right;\n",
       "    }\n",
       "</style>\n",
       "<table border=\"1\" class=\"dataframe\">\n",
       "  <thead>\n",
       "    <tr style=\"text-align: right;\">\n",
       "      <th></th>\n",
       "      <th>Zipcode</th>\n",
       "      <th>Population_2016</th>\n",
       "    </tr>\n",
       "    <tr>\n",
       "      <th>Cities_by_Zipcodes</th>\n",
       "      <th></th>\n",
       "      <th></th>\n",
       "    </tr>\n",
       "  </thead>\n",
       "  <tbody>\n",
       "    <tr>\n",
       "      <th>Houston</th>\n",
       "      <td>7396948.0</td>\n",
       "      <td>3073737.0</td>\n",
       "    </tr>\n",
       "    <tr>\n",
       "      <th>North Houston</th>\n",
       "      <td>0.0</td>\n",
       "      <td>0.0</td>\n",
       "    </tr>\n",
       "    <tr>\n",
       "      <th>Kingwood</th>\n",
       "      <td>0.0</td>\n",
       "      <td>0.0</td>\n",
       "    </tr>\n",
       "    <tr>\n",
       "      <th>Huffman</th>\n",
       "      <td>77336.0</td>\n",
       "      <td>11806.0</td>\n",
       "    </tr>\n",
       "    <tr>\n",
       "      <th>Hufsmith</th>\n",
       "      <td>0.0</td>\n",
       "      <td>0.0</td>\n",
       "    </tr>\n",
       "  </tbody>\n",
       "</table>\n",
       "</div>"
      ],
      "text/plain": [
       "                      Zipcode  Population_2016\n",
       "Cities_by_Zipcodes                            \n",
       "Houston             7396948.0        3073737.0\n",
       "North Houston             0.0              0.0\n",
       "Kingwood                  0.0              0.0\n",
       "Huffman               77336.0          11806.0\n",
       "Hufsmith                  0.0              0.0"
      ]
     },
     "execution_count": 183,
     "metadata": {},
     "output_type": "execute_result"
    }
   ],
   "source": [
    "bins = [77000, 77299, 77315, 77325, 77336, 77337, 77338, 77345, 77347, 77373, 77377, 77391, 77396, 77402, 77410, 77411, 77413, 77433, 77447, 77450, 77484, 77493, 77508, 77522, 77530, 77532, 77536, 77547, 77562, 77572, 77586, 77587, 77598]\n",
    "\n",
    "group_names = [\"Houston\", \"North Houston\", \"Kingwood\", \"Huffman\", \"Hufsmith\", \"Humble\", \"Kingwood2\", \"Humble2\", \"Spring\", \"Tomball\", \"Spring2\", \"Humble3\", \"Bellaire\", \"Cypress\", \"Alief\", \"Barker\", \"Cypress2\", \"Hockley\", \"Katy\", \"Waller\", \"Katy2\", \"Pasadena\", \"Baytown\", \"Channelview\", \"Crosby\", \"Deer Park\", \"Galena Park\", \"Highlands\", \"La Porte\", \"Seabrook\", \"South Houston\", \"Webster\"]\n",
    "\n",
    "census_pd6[\"Cities_by_Zipcodes\"] = pd.cut(census_pd6[\"Zipcode\"], bins, labels = group_names)\n",
    "\n",
    "#census_pd6\n",
    "\n",
    "grouped6 = census_pd6.groupby([\"Cities_by_Zipcodes\"])\n",
    "pop2016 = grouped6.sum()\n",
    "pop2016.sort_values(\"Population_2016\", ascending=False)\n",
    "pop2016.head()"
   ]
  },
  {
   "cell_type": "code",
   "execution_count": 184,
   "metadata": {},
   "outputs": [],
   "source": [
    "# Save as a csv\n",
    "# Note to avoid any issues later, use encoding=\"utf-8\"\n",
    "pop2016.to_csv(\"census_data_2016.csv\", columns=[\"Population_2016\"], encoding=\"utf-8\", index=True)"
   ]
  },
  {
   "cell_type": "code",
   "execution_count": null,
   "metadata": {},
   "outputs": [],
   "source": []
  },
  {
   "cell_type": "code",
   "execution_count": 185,
   "metadata": {},
   "outputs": [
    {
     "name": "stdout",
     "output_type": "stream",
     "text": [
      "133\n"
     ]
    },
    {
     "data": {
      "text/plain": [
       "Zipcode            float64\n",
       "Population_2015    float64\n",
       "dtype: object"
      ]
     },
     "execution_count": 185,
     "metadata": {},
     "output_type": "execute_result"
    }
   ],
   "source": [
    "#2015 population\n",
    "c2015 = Census(api_key, year=2015)\n",
    "census_data_2015 = c2015.acs5.get((\"NAME\", \"B01003_001E\"), {'for': 'zip code tabulation area:77001,77002,77003,77004,77005,77006,77007,77008,77009,77010,77011,77012,77013,77014,77015,77016,77017,77018,77019,77020,77021,77022,77023,77024,77025,77026,77027,77028,77029,77030,77031,77032,77033,77034,77035,77036,77037,77038,77039,77040,77041,77042,77043,77044,77045,77046,77047,77048,77049,77050,77051,77052,77054,77055,77056,77057,77058,77059,77060,77061,77062,77063,77064,77065,77066,77067,77068,77069,77070,77071,77072,77073,77074,77075,77076,77077,77078,77079,77080,77081,77082,77083,77084,77085,77086,77087,77088,77089,77090,77091,77092,77093,77094,77095,77096,77097,77098,77099,77201,77202,77203,77205,77206,77207,77208,77210,77212,77213,77215,77217,77218,77219,77220,77221,77222,77223,77224,77225,77226,77227,77228,77229,77230,77231,77233,77234,77235,77236,77237,77238,77240,77241,77242,77243,77244,77245,77248,77249,77251,77252,77253,77254,77255,77256,77257,77258,77259,77261,77262,77263,77265,77266,77267,77268,77269,77270,77271,77272,77273,77274,77275,77277,77279,77280,77281,77282,77284,77287,77288,77289,77290,77291,77292,77293,77315,77325,77336,77337,77338,77339,77345,77346,77347,77373,77375,77377,77379,77383,77388,77389,77391,77396,77401,77402,77410,77411,77413,77429,77433,77447,77449,77450,77484,77491,77492,77493,77501,77502,77503,77504,77505,77506,77507,77508,77520,77521,77522,77530,77532,77536,77547,77562,77571,77572,77586,77587,77598'})\n",
    "\n",
    "#census_data_2015\n",
    "\n",
    "# Convert to DataFrame\n",
    "census_pd5 = pd.DataFrame(census_data_2015)\n",
    "\n",
    "# Column Reordering\n",
    "census_pd5 = census_pd5.rename(columns={\"B01003_001E\": \"Population_2015\",\n",
    "                                      \"NAME\": \"Name\", \"zip code tabulation area\": \"Zipcode\"})\n",
    "\n",
    "#Final DataFrame\n",
    "census_pd5 = census_pd5[[\"Zipcode\",\"Population_2015\"]]\n",
    "\n",
    "print(len(census_pd5))\n",
    "\n",
    "#census_pd5\n",
    "#census_pd5.sort_values(\"Zipcode\")\n",
    "\n",
    "#converting object to float\n",
    "census_pd5[\"Zipcode\"] = census_pd2.Zipcode.astype(float)\n",
    "census_pd5.dtypes"
   ]
  },
  {
   "cell_type": "code",
   "execution_count": 186,
   "metadata": {},
   "outputs": [
    {
     "data": {
      "text/html": [
       "<div>\n",
       "<style scoped>\n",
       "    .dataframe tbody tr th:only-of-type {\n",
       "        vertical-align: middle;\n",
       "    }\n",
       "\n",
       "    .dataframe tbody tr th {\n",
       "        vertical-align: top;\n",
       "    }\n",
       "\n",
       "    .dataframe thead th {\n",
       "        text-align: right;\n",
       "    }\n",
       "</style>\n",
       "<table border=\"1\" class=\"dataframe\">\n",
       "  <thead>\n",
       "    <tr style=\"text-align: right;\">\n",
       "      <th></th>\n",
       "      <th>Zipcode</th>\n",
       "      <th>Population_2015</th>\n",
       "    </tr>\n",
       "    <tr>\n",
       "      <th>Cities_by_Zipcodes</th>\n",
       "      <th></th>\n",
       "      <th></th>\n",
       "    </tr>\n",
       "  </thead>\n",
       "  <tbody>\n",
       "    <tr>\n",
       "      <th>Houston</th>\n",
       "      <td>7396948.0</td>\n",
       "      <td>3411853.0</td>\n",
       "    </tr>\n",
       "    <tr>\n",
       "      <th>North Houston</th>\n",
       "      <td>0.0</td>\n",
       "      <td>0.0</td>\n",
       "    </tr>\n",
       "    <tr>\n",
       "      <th>Kingwood</th>\n",
       "      <td>0.0</td>\n",
       "      <td>0.0</td>\n",
       "    </tr>\n",
       "    <tr>\n",
       "      <th>Huffman</th>\n",
       "      <td>77336.0</td>\n",
       "      <td>26013.0</td>\n",
       "    </tr>\n",
       "    <tr>\n",
       "      <th>Hufsmith</th>\n",
       "      <td>0.0</td>\n",
       "      <td>0.0</td>\n",
       "    </tr>\n",
       "  </tbody>\n",
       "</table>\n",
       "</div>"
      ],
      "text/plain": [
       "                      Zipcode  Population_2015\n",
       "Cities_by_Zipcodes                            \n",
       "Houston             7396948.0        3411853.0\n",
       "North Houston             0.0              0.0\n",
       "Kingwood                  0.0              0.0\n",
       "Huffman               77336.0          26013.0\n",
       "Hufsmith                  0.0              0.0"
      ]
     },
     "execution_count": 186,
     "metadata": {},
     "output_type": "execute_result"
    }
   ],
   "source": [
    "bins = [77000, 77299, 77315, 77325, 77336, 77337, 77338, 77345, 77347, 77373, 77377, 77391, 77396, 77402, 77410, 77411, 77413, 77433, 77447, 77450, 77484, 77493, 77508, 77522, 77530, 77532, 77536, 77547, 77562, 77572, 77586, 77587, 77598]\n",
    "\n",
    "group_names = [\"Houston\", \"North Houston\", \"Kingwood\", \"Huffman\", \"Hufsmith\", \"Humble\", \"Kingwood2\", \"Humble2\", \"Spring\", \"Tomball\", \"Spring2\", \"Humble3\", \"Bellaire\", \"Cypress\", \"Alief\", \"Barker\", \"Cypress2\", \"Hockley\", \"Katy\", \"Waller\", \"Katy2\", \"Pasadena\", \"Baytown\", \"Channelview\", \"Crosby\", \"Deer Park\", \"Galena Park\", \"Highlands\", \"La Porte\", \"Seabrook\", \"South Houston\", \"Webster\"]\n",
    "\n",
    "census_pd5[\"Cities_by_Zipcodes\"] = pd.cut(census_pd5[\"Zipcode\"], bins, labels = group_names)\n",
    "\n",
    "#census_pd5\n",
    "\n",
    "grouped5 = census_pd5.groupby([\"Cities_by_Zipcodes\"])\n",
    "pop2015 = grouped5.sum()\n",
    "pop2015.sort_values(\"Population_2015\", ascending=False)\n",
    "pop2015.head()"
   ]
  },
  {
   "cell_type": "code",
   "execution_count": 187,
   "metadata": {},
   "outputs": [],
   "source": [
    "# Save as a csv\n",
    "# Note to avoid any issues later, use encoding=\"utf-8\"\n",
    "pop2015.to_csv(\"census_data_2015.csv\", columns=[\"Population_2015\"], encoding=\"utf-8\", index=True)"
   ]
  },
  {
   "cell_type": "code",
   "execution_count": null,
   "metadata": {},
   "outputs": [],
   "source": []
  },
  {
   "cell_type": "code",
   "execution_count": 188,
   "metadata": {},
   "outputs": [
    {
     "name": "stdout",
     "output_type": "stream",
     "text": [
      "133\n"
     ]
    },
    {
     "data": {
      "text/plain": [
       "Zipcode            float64\n",
       "Population_2014    float64\n",
       "dtype: object"
      ]
     },
     "execution_count": 188,
     "metadata": {},
     "output_type": "execute_result"
    }
   ],
   "source": [
    "#2014 population\n",
    "c2014 = Census(api_key, year=2014)\n",
    "census_data_2014 = c2014.acs5.get((\"NAME\", \"B01003_001E\"), {'for': 'zip code tabulation area:77001,77002,77003,77004,77005,77006,77007,77008,77009,77010,77011,77012,77013,77014,77015,77016,77017,77018,77019,77020,77021,77022,77023,77024,77025,77026,77027,77028,77029,77030,77031,77032,77033,77034,77035,77036,77037,77038,77039,77040,77041,77042,77043,77044,77045,77046,77047,77048,77049,77050,77051,77052,77054,77055,77056,77057,77058,77059,77060,77061,77062,77063,77064,77065,77066,77067,77068,77069,77070,77071,77072,77073,77074,77075,77076,77077,77078,77079,77080,77081,77082,77083,77084,77085,77086,77087,77088,77089,77090,77091,77092,77093,77094,77095,77096,77097,77098,77099,77201,77202,77203,77205,77206,77207,77208,77210,77212,77213,77215,77217,77218,77219,77220,77221,77222,77223,77224,77225,77226,77227,77228,77229,77230,77231,77233,77234,77235,77236,77237,77238,77240,77241,77242,77243,77244,77245,77248,77249,77251,77252,77253,77254,77255,77256,77257,77258,77259,77261,77262,77263,77265,77266,77267,77268,77269,77270,77271,77272,77273,77274,77275,77277,77279,77280,77281,77282,77284,77287,77288,77289,77290,77291,77292,77293,77315,77325,77336,77337,77338,77339,77345,77346,77347,77373,77375,77377,77379,77383,77388,77389,77391,77396,77401,77402,77410,77411,77413,77429,77433,77447,77449,77450,77484,77491,77492,77493,77501,77502,77503,77504,77505,77506,77507,77508,77520,77521,77522,77530,77532,77536,77547,77562,77571,77572,77586,77587,77598'})\n",
    "\n",
    "#census_data_2014\n",
    "\n",
    "# Convert to DataFrame\n",
    "census_pd4 = pd.DataFrame(census_data_2014)\n",
    "\n",
    "# Column Reordering\n",
    "census_pd4 = census_pd4.rename(columns={\"B01003_001E\": \"Population_2014\",\n",
    "                                      \"NAME\": \"Name\", \"zip code tabulation area\": \"Zipcode\"})\n",
    "\n",
    "#Final DataFrame\n",
    "census_pd4 = census_pd4[[\"Zipcode\",\"Population_2014\"]]\n",
    "\n",
    "print(len(census_pd4))\n",
    "\n",
    "#census_pd4\n",
    "#census_pd4.sort_values(\"Zipcode\")\n",
    "\n",
    "#converting object to float\n",
    "census_pd4[\"Zipcode\"] = census_pd4.Zipcode.astype(float)\n",
    "census_pd4.dtypes"
   ]
  },
  {
   "cell_type": "code",
   "execution_count": 189,
   "metadata": {},
   "outputs": [
    {
     "data": {
      "text/html": [
       "<div>\n",
       "<style scoped>\n",
       "    .dataframe tbody tr th:only-of-type {\n",
       "        vertical-align: middle;\n",
       "    }\n",
       "\n",
       "    .dataframe tbody tr th {\n",
       "        vertical-align: top;\n",
       "    }\n",
       "\n",
       "    .dataframe thead th {\n",
       "        text-align: right;\n",
       "    }\n",
       "</style>\n",
       "<table border=\"1\" class=\"dataframe\">\n",
       "  <thead>\n",
       "    <tr style=\"text-align: right;\">\n",
       "      <th></th>\n",
       "      <th>Zipcode</th>\n",
       "      <th>Population_2014</th>\n",
       "    </tr>\n",
       "    <tr>\n",
       "      <th>Cities_by_Zipcodes</th>\n",
       "      <th></th>\n",
       "      <th></th>\n",
       "    </tr>\n",
       "  </thead>\n",
       "  <tbody>\n",
       "    <tr>\n",
       "      <th>Houston</th>\n",
       "      <td>7401900.0</td>\n",
       "      <td>2924412.0</td>\n",
       "    </tr>\n",
       "    <tr>\n",
       "      <th>North Houston</th>\n",
       "      <td>0.0</td>\n",
       "      <td>0.0</td>\n",
       "    </tr>\n",
       "    <tr>\n",
       "      <th>Kingwood</th>\n",
       "      <td>0.0</td>\n",
       "      <td>0.0</td>\n",
       "    </tr>\n",
       "    <tr>\n",
       "      <th>Huffman</th>\n",
       "      <td>77089.0</td>\n",
       "      <td>51939.0</td>\n",
       "    </tr>\n",
       "    <tr>\n",
       "      <th>Hufsmith</th>\n",
       "      <td>0.0</td>\n",
       "      <td>0.0</td>\n",
       "    </tr>\n",
       "  </tbody>\n",
       "</table>\n",
       "</div>"
      ],
      "text/plain": [
       "                      Zipcode  Population_2014\n",
       "Cities_by_Zipcodes                            \n",
       "Houston             7401900.0        2924412.0\n",
       "North Houston             0.0              0.0\n",
       "Kingwood                  0.0              0.0\n",
       "Huffman               77089.0          51939.0\n",
       "Hufsmith                  0.0              0.0"
      ]
     },
     "execution_count": 189,
     "metadata": {},
     "output_type": "execute_result"
    }
   ],
   "source": [
    "bins = [77000, 77299, 77315, 77325, 77336, 77337, 77338, 77345, 77347, 77373, 77377, 77391, 77396, 77402, 77410, 77411, 77413, 77433, 77447, 77450, 77484, 77493, 77508, 77522, 77530, 77532, 77536, 77547, 77562, 77572, 77586, 77587, 77598]\n",
    "\n",
    "group_names = [\"Houston\", \"North Houston\", \"Kingwood\", \"Huffman\", \"Hufsmith\", \"Humble\", \"Kingwood2\", \"Humble2\", \"Spring\", \"Tomball\", \"Spring2\", \"Humble3\", \"Bellaire\", \"Cypress\", \"Alief\", \"Barker\", \"Cypress2\", \"Hockley\", \"Katy\", \"Waller\", \"Katy2\", \"Pasadena\", \"Baytown\", \"Channelview\", \"Crosby\", \"Deer Park\", \"Galena Park\", \"Highlands\", \"La Porte\", \"Seabrook\", \"South Houston\", \"Webster\"]\n",
    "\n",
    "census_pd4[\"Cities_by_Zipcodes\"] = pd.cut(census_pd1[\"Zipcode\"], bins, labels = group_names)\n",
    "\n",
    "#census_pd1\n",
    "\n",
    "grouped4 = census_pd4.groupby([\"Cities_by_Zipcodes\"])\n",
    "pop2014 = grouped4.sum()\n",
    "pop2014.sort_values(\"Population_2014\", ascending=False)\n",
    "pop2014.head()"
   ]
  },
  {
   "cell_type": "code",
   "execution_count": 190,
   "metadata": {},
   "outputs": [],
   "source": [
    "# Save as a csv\n",
    "# Note to avoid any issues later, use encoding=\"utf-8\"\n",
    "pop2014.to_csv(\"census_data_2014.csv\", columns=[\"Population_2014\"], encoding=\"utf-8\", index=True)"
   ]
  },
  {
   "cell_type": "code",
   "execution_count": null,
   "metadata": {},
   "outputs": [],
   "source": []
  },
  {
   "cell_type": "code",
   "execution_count": 191,
   "metadata": {},
   "outputs": [
    {
     "name": "stdout",
     "output_type": "stream",
     "text": [
      "133\n"
     ]
    },
    {
     "data": {
      "text/plain": [
       "Zipcode            float64\n",
       "Population_2013    float64\n",
       "dtype: object"
      ]
     },
     "execution_count": 191,
     "metadata": {},
     "output_type": "execute_result"
    }
   ],
   "source": [
    "#2013 population\n",
    "c2013 = Census(api_key, year=2013)\n",
    "census_data_2013 = c2013.acs5.get((\"NAME\", \"B01003_001E\"), {'for': 'zip code tabulation area:77001,77002,77003,77004,77005,77006,77007,77008,77009,77010,77011,77012,77013,77014,77015,77016,77017,77018,77019,77020,77021,77022,77023,77024,77025,77026,77027,77028,77029,77030,77031,77032,77033,77034,77035,77036,77037,77038,77039,77040,77041,77042,77043,77044,77045,77046,77047,77048,77049,77050,77051,77052,77054,77055,77056,77057,77058,77059,77060,77061,77062,77063,77064,77065,77066,77067,77068,77069,77070,77071,77072,77073,77074,77075,77076,77077,77078,77079,77080,77081,77082,77083,77084,77085,77086,77087,77088,77089,77090,77091,77092,77093,77094,77095,77096,77097,77098,77099,77201,77202,77203,77205,77206,77207,77208,77210,77212,77213,77215,77217,77218,77219,77220,77221,77222,77223,77224,77225,77226,77227,77228,77229,77230,77231,77233,77234,77235,77236,77237,77238,77240,77241,77242,77243,77244,77245,77248,77249,77251,77252,77253,77254,77255,77256,77257,77258,77259,77261,77262,77263,77265,77266,77267,77268,77269,77270,77271,77272,77273,77274,77275,77277,77279,77280,77281,77282,77284,77287,77288,77289,77290,77291,77292,77293,77315,77325,77336,77337,77338,77339,77345,77346,77347,77373,77375,77377,77379,77383,77388,77389,77391,77396,77401,77402,77410,77411,77413,77429,77433,77447,77449,77450,77484,77491,77492,77493,77501,77502,77503,77504,77505,77506,77507,77508,77520,77521,77522,77530,77532,77536,77547,77562,77571,77572,77586,77587,77598'})\n",
    "\n",
    "#census_data_2013\n",
    "\n",
    "# Convert to DataFrame\n",
    "census_pd3 = pd.DataFrame(census_data_2013)\n",
    "\n",
    "# Column Reordering\n",
    "census_pd3 = census_pd3.rename(columns={\"B01003_001E\": \"Population_2013\",\n",
    "                                      \"NAME\": \"Name\", \"zip code tabulation area\": \"Zipcode\"})\n",
    "\n",
    "#Final DataFrame\n",
    "census_pd3 = census_pd3[[\"Zipcode\",\"Population_2013\"]]\n",
    "\n",
    "print(len(census_pd3))\n",
    "\n",
    "#census_pd3\n",
    "#census_pd3.sort_values(\"Zipcode\")\n",
    "\n",
    "#converting object to float\n",
    "census_pd3[\"Zipcode\"] = census_pd3.Zipcode.astype(float)\n",
    "census_pd3.dtypes"
   ]
  },
  {
   "cell_type": "code",
   "execution_count": 192,
   "metadata": {},
   "outputs": [
    {
     "data": {
      "text/html": [
       "<div>\n",
       "<style scoped>\n",
       "    .dataframe tbody tr th:only-of-type {\n",
       "        vertical-align: middle;\n",
       "    }\n",
       "\n",
       "    .dataframe tbody tr th {\n",
       "        vertical-align: top;\n",
       "    }\n",
       "\n",
       "    .dataframe thead th {\n",
       "        text-align: right;\n",
       "    }\n",
       "</style>\n",
       "<table border=\"1\" class=\"dataframe\">\n",
       "  <thead>\n",
       "    <tr style=\"text-align: right;\">\n",
       "      <th></th>\n",
       "      <th>Zipcode</th>\n",
       "      <th>Population_2013</th>\n",
       "    </tr>\n",
       "    <tr>\n",
       "      <th>Cities_by_Zipcodes</th>\n",
       "      <th></th>\n",
       "      <th></th>\n",
       "    </tr>\n",
       "  </thead>\n",
       "  <tbody>\n",
       "    <tr>\n",
       "      <th>Houston</th>\n",
       "      <td>7396948.0</td>\n",
       "      <td>2930055.0</td>\n",
       "    </tr>\n",
       "    <tr>\n",
       "      <th>North Houston</th>\n",
       "      <td>0.0</td>\n",
       "      <td>0.0</td>\n",
       "    </tr>\n",
       "    <tr>\n",
       "      <th>Kingwood</th>\n",
       "      <td>0.0</td>\n",
       "      <td>0.0</td>\n",
       "    </tr>\n",
       "    <tr>\n",
       "      <th>Huffman</th>\n",
       "      <td>77336.0</td>\n",
       "      <td>12022.0</td>\n",
       "    </tr>\n",
       "    <tr>\n",
       "      <th>Hufsmith</th>\n",
       "      <td>0.0</td>\n",
       "      <td>0.0</td>\n",
       "    </tr>\n",
       "  </tbody>\n",
       "</table>\n",
       "</div>"
      ],
      "text/plain": [
       "                      Zipcode  Population_2013\n",
       "Cities_by_Zipcodes                            \n",
       "Houston             7396948.0        2930055.0\n",
       "North Houston             0.0              0.0\n",
       "Kingwood                  0.0              0.0\n",
       "Huffman               77336.0          12022.0\n",
       "Hufsmith                  0.0              0.0"
      ]
     },
     "execution_count": 192,
     "metadata": {},
     "output_type": "execute_result"
    }
   ],
   "source": [
    "bins = [77000, 77299, 77315, 77325, 77336, 77337, 77338, 77345, 77347, 77373, 77377, 77391, 77396, 77402, 77410, 77411, 77413, 77433, 77447, 77450, 77484, 77493, 77508, 77522, 77530, 77532, 77536, 77547, 77562, 77572, 77586, 77587, 77598]\n",
    "\n",
    "group_names = [\"Houston\", \"North Houston\", \"Kingwood\", \"Huffman\", \"Hufsmith\", \"Humble\", \"Kingwood2\", \"Humble2\", \"Spring\", \"Tomball\", \"Spring2\", \"Humble3\", \"Bellaire\", \"Cypress\", \"Alief\", \"Barker\", \"Cypress2\", \"Hockley\", \"Katy\", \"Waller\", \"Katy2\", \"Pasadena\", \"Baytown\", \"Channelview\", \"Crosby\", \"Deer Park\", \"Galena Park\", \"Highlands\", \"La Porte\", \"Seabrook\", \"South Houston\", \"Webster\"]\n",
    "\n",
    "census_pd3[\"Cities_by_Zipcodes\"] = pd.cut(census_pd3[\"Zipcode\"], bins, labels = group_names)\n",
    "\n",
    "#census_pd1\n",
    "\n",
    "grouped3 = census_pd3.groupby([\"Cities_by_Zipcodes\"])\n",
    "pop2013 = grouped3.sum()\n",
    "pop2013.sort_values(\"Population_2013\", ascending=False)\n",
    "pop2013.head()"
   ]
  },
  {
   "cell_type": "code",
   "execution_count": 193,
   "metadata": {},
   "outputs": [],
   "source": [
    "# Save as a csv\n",
    "# Note to avoid any issues later, use encoding=\"utf-8\"\n",
    "pop2013.to_csv(\"census_data_2013.csv\", columns=[\"Population_2013\"], encoding=\"utf-8\", index=True)"
   ]
  },
  {
   "cell_type": "code",
   "execution_count": null,
   "metadata": {},
   "outputs": [],
   "source": []
  },
  {
   "cell_type": "code",
   "execution_count": 194,
   "metadata": {},
   "outputs": [
    {
     "name": "stdout",
     "output_type": "stream",
     "text": [
      "133\n"
     ]
    },
    {
     "data": {
      "text/plain": [
       "Zipcode            float64\n",
       "Population_2012    float64\n",
       "dtype: object"
      ]
     },
     "execution_count": 194,
     "metadata": {},
     "output_type": "execute_result"
    }
   ],
   "source": [
    "#2012 population\n",
    "c2012 = Census(api_key, year=2012)\n",
    "census_data_2012 = c2012.acs5.get((\"NAME\", \"B01003_001E\"), {'for': 'zip code tabulation area:77001,77002,77003,77004,77005,77006,77007,77008,77009,77010,77011,77012,77013,77014,77015,77016,77017,77018,77019,77020,77021,77022,77023,77024,77025,77026,77027,77028,77029,77030,77031,77032,77033,77034,77035,77036,77037,77038,77039,77040,77041,77042,77043,77044,77045,77046,77047,77048,77049,77050,77051,77052,77054,77055,77056,77057,77058,77059,77060,77061,77062,77063,77064,77065,77066,77067,77068,77069,77070,77071,77072,77073,77074,77075,77076,77077,77078,77079,77080,77081,77082,77083,77084,77085,77086,77087,77088,77089,77090,77091,77092,77093,77094,77095,77096,77097,77098,77099,77201,77202,77203,77205,77206,77207,77208,77210,77212,77213,77215,77217,77218,77219,77220,77221,77222,77223,77224,77225,77226,77227,77228,77229,77230,77231,77233,77234,77235,77236,77237,77238,77240,77241,77242,77243,77244,77245,77248,77249,77251,77252,77253,77254,77255,77256,77257,77258,77259,77261,77262,77263,77265,77266,77267,77268,77269,77270,77271,77272,77273,77274,77275,77277,77279,77280,77281,77282,77284,77287,77288,77289,77290,77291,77292,77293,77315,77325,77336,77337,77338,77339,77345,77346,77347,77373,77375,77377,77379,77383,77388,77389,77391,77396,77401,77402,77410,77411,77413,77429,77433,77447,77449,77450,77484,77491,77492,77493,77501,77502,77503,77504,77505,77506,77507,77508,77520,77521,77522,77530,77532,77536,77547,77562,77571,77572,77586,77587,77598'})\n",
    "\n",
    "#census_data_2012\n",
    "\n",
    "# Convert to DataFrame\n",
    "census_pd2 = pd.DataFrame(census_data_2012)\n",
    "\n",
    "# Column Reordering\n",
    "census_pd2 = census_pd2.rename(columns={\"B01003_001E\": \"Population_2012\",\n",
    "                                      \"NAME\": \"Name\", \"zip code tabulation area\": \"Zipcode\"})\n",
    "\n",
    "#Final DataFrame\n",
    "census_pd2 = census_pd2[[\"Zipcode\",\"Population_2012\"]]\n",
    "\n",
    "print(len(census_pd2))\n",
    "\n",
    "#census_pd2\n",
    "#census_pd2.sort_values(\"Zipcode\")\n",
    "\n",
    "#converting object to float\n",
    "census_pd2[\"Zipcode\"] = census_pd2.Zipcode.astype(float)\n",
    "census_pd2.dtypes"
   ]
  },
  {
   "cell_type": "code",
   "execution_count": 195,
   "metadata": {},
   "outputs": [
    {
     "data": {
      "text/html": [
       "<div>\n",
       "<style scoped>\n",
       "    .dataframe tbody tr th:only-of-type {\n",
       "        vertical-align: middle;\n",
       "    }\n",
       "\n",
       "    .dataframe tbody tr th {\n",
       "        vertical-align: top;\n",
       "    }\n",
       "\n",
       "    .dataframe thead th {\n",
       "        text-align: right;\n",
       "    }\n",
       "</style>\n",
       "<table border=\"1\" class=\"dataframe\">\n",
       "  <thead>\n",
       "    <tr style=\"text-align: right;\">\n",
       "      <th></th>\n",
       "      <th>Zipcode</th>\n",
       "      <th>Population_2012</th>\n",
       "    </tr>\n",
       "    <tr>\n",
       "      <th>Cities_by_Zipcodes</th>\n",
       "      <th></th>\n",
       "      <th></th>\n",
       "    </tr>\n",
       "  </thead>\n",
       "  <tbody>\n",
       "    <tr>\n",
       "      <th>Houston</th>\n",
       "      <td>7396948.0</td>\n",
       "      <td>2883057.0</td>\n",
       "    </tr>\n",
       "    <tr>\n",
       "      <th>North Houston</th>\n",
       "      <td>0.0</td>\n",
       "      <td>0.0</td>\n",
       "    </tr>\n",
       "    <tr>\n",
       "      <th>Kingwood</th>\n",
       "      <td>0.0</td>\n",
       "      <td>0.0</td>\n",
       "    </tr>\n",
       "    <tr>\n",
       "      <th>Huffman</th>\n",
       "      <td>77336.0</td>\n",
       "      <td>12116.0</td>\n",
       "    </tr>\n",
       "    <tr>\n",
       "      <th>Hufsmith</th>\n",
       "      <td>0.0</td>\n",
       "      <td>0.0</td>\n",
       "    </tr>\n",
       "  </tbody>\n",
       "</table>\n",
       "</div>"
      ],
      "text/plain": [
       "                      Zipcode  Population_2012\n",
       "Cities_by_Zipcodes                            \n",
       "Houston             7396948.0        2883057.0\n",
       "North Houston             0.0              0.0\n",
       "Kingwood                  0.0              0.0\n",
       "Huffman               77336.0          12116.0\n",
       "Hufsmith                  0.0              0.0"
      ]
     },
     "execution_count": 195,
     "metadata": {},
     "output_type": "execute_result"
    }
   ],
   "source": [
    "bins = [77000, 77299, 77315, 77325, 77336, 77337, 77338, 77345, 77347, 77373, 77377, 77391, 77396, 77402, 77410, 77411, 77413, 77433, 77447, 77450, 77484, 77493, 77508, 77522, 77530, 77532, 77536, 77547, 77562, 77572, 77586, 77587, 77598]\n",
    "\n",
    "group_names = [\"Houston\", \"North Houston\", \"Kingwood\", \"Huffman\", \"Hufsmith\", \"Humble\", \"Kingwood2\", \"Humble2\", \"Spring\", \"Tomball\", \"Spring2\", \"Humble3\", \"Bellaire\", \"Cypress\", \"Alief\", \"Barker\", \"Cypress2\", \"Hockley\", \"Katy\", \"Waller\", \"Katy2\", \"Pasadena\", \"Baytown\", \"Channelview\", \"Crosby\", \"Deer Park\", \"Galena Park\", \"Highlands\", \"La Porte\", \"Seabrook\", \"South Houston\", \"Webster\"]\n",
    "\n",
    "census_pd2[\"Cities_by_Zipcodes\"] = pd.cut(census_pd2[\"Zipcode\"], bins, labels = group_names)\n",
    "\n",
    "#census_pd2\n",
    "\n",
    "grouped2 = census_pd2.groupby([\"Cities_by_Zipcodes\"])\n",
    "pop2012 = grouped2.sum()\n",
    "pop2012.sort_values(\"Population_2012\", ascending=False)\n",
    "pop2012.head()"
   ]
  },
  {
   "cell_type": "code",
   "execution_count": 196,
   "metadata": {},
   "outputs": [],
   "source": [
    "# Save as a csv\n",
    "# Note to avoid any issues later, use encoding=\"utf-8\"\n",
    "pop2012.to_csv(\"census_data_2012.csv\", columns=[\"Population_2012\"], encoding=\"utf-8\", index=True)"
   ]
  },
  {
   "cell_type": "code",
   "execution_count": null,
   "metadata": {},
   "outputs": [],
   "source": []
  },
  {
   "cell_type": "code",
   "execution_count": 202,
   "metadata": {},
   "outputs": [
    {
     "name": "stdout",
     "output_type": "stream",
     "text": [
      "133\n"
     ]
    },
    {
     "data": {
      "text/plain": [
       "Zipcode            float64\n",
       "Population_2011    float64\n",
       "dtype: object"
      ]
     },
     "execution_count": 202,
     "metadata": {},
     "output_type": "execute_result"
    }
   ],
   "source": [
    "#2011 population\n",
    "c2011 = Census(api_key, year=2011)\n",
    "census_data_2011 = c2011.acs5.get((\"NAME\", \"B01003_001E\"), {'for': 'zip code tabulation area:77001,77002,77003,77004,77005,77006,77007,77008,77009,77010,77011,77012,77013,77014,77015,77016,77017,77018,77019,77020,77021,77022,77023,77024,77025,77026,77027,77028,77029,77030,77031,77032,77033,77034,77035,77036,77037,77038,77039,77040,77041,77042,77043,77044,77045,77046,77047,77048,77049,77050,77051,77052,77054,77055,77056,77057,77058,77059,77060,77061,77062,77063,77064,77065,77066,77067,77068,77069,77070,77071,77072,77073,77074,77075,77076,77077,77078,77079,77080,77081,77082,77083,77084,77085,77086,77087,77088,77089,77090,77091,77092,77093,77094,77095,77096,77097,77098,77099,77201,77202,77203,77205,77206,77207,77208,77210,77212,77213,77215,77217,77218,77219,77220,77221,77222,77223,77224,77225,77226,77227,77228,77229,77230,77231,77233,77234,77235,77236,77237,77238,77240,77241,77242,77243,77244,77245,77248,77249,77251,77252,77253,77254,77255,77256,77257,77258,77259,77261,77262,77263,77265,77266,77267,77268,77269,77270,77271,77272,77273,77274,77275,77277,77279,77280,77281,77282,77284,77287,77288,77289,77290,77291,77292,77293,77315,77325,77336,77337,77338,77339,77345,77346,77347,77373,77375,77377,77379,77383,77388,77389,77391,77396,77401,77402,77410,77411,77413,77429,77433,77447,77449,77450,77484,77491,77492,77493,77501,77502,77503,77504,77505,77506,77507,77508,77520,77521,77522,77530,77532,77536,77547,77562,77571,77572,77586,77587,77598'})\n",
    "\n",
    "#census_data_2011\n",
    "\n",
    "# Convert to DataFrame\n",
    "census_pd1 = pd.DataFrame(census_data_2011)\n",
    "\n",
    "# Column Reordering\n",
    "census_pd1 = census_pd1.rename(columns={\"B01003_001E\": \"Population_2011\",\n",
    "                                      \"NAME\": \"Name\", \"zip code tabulation area\": \"Zipcode\"})\n",
    "\n",
    "#Final DataFrame\n",
    "census_pd1 = census_pd1[[\"Zipcode\",\"Population_2011\"]]\n",
    "\n",
    "print(len(census_pd1))\n",
    "\n",
    "#census_pd1\n",
    "#census_pd1.sort_values(\"Zipcode\")\n",
    "\n",
    "#converting object to float\n",
    "census_pd1[\"Zipcode\"] = census_pd1.Zipcode.astype(float)\n",
    "census_pd1.dtypes"
   ]
  },
  {
   "cell_type": "code",
   "execution_count": 203,
   "metadata": {},
   "outputs": [
    {
     "data": {
      "text/html": [
       "<div>\n",
       "<style scoped>\n",
       "    .dataframe tbody tr th:only-of-type {\n",
       "        vertical-align: middle;\n",
       "    }\n",
       "\n",
       "    .dataframe tbody tr th {\n",
       "        vertical-align: top;\n",
       "    }\n",
       "\n",
       "    .dataframe thead th {\n",
       "        text-align: right;\n",
       "    }\n",
       "</style>\n",
       "<table border=\"1\" class=\"dataframe\">\n",
       "  <thead>\n",
       "    <tr style=\"text-align: right;\">\n",
       "      <th></th>\n",
       "      <th>Zipcode</th>\n",
       "      <th>Population_2011</th>\n",
       "    </tr>\n",
       "    <tr>\n",
       "      <th>Cities_by_Zipcodes</th>\n",
       "      <th></th>\n",
       "      <th></th>\n",
       "    </tr>\n",
       "  </thead>\n",
       "  <tbody>\n",
       "    <tr>\n",
       "      <th>Houston</th>\n",
       "      <td>7396948.0</td>\n",
       "      <td>2842163.0</td>\n",
       "    </tr>\n",
       "    <tr>\n",
       "      <th>North Houston</th>\n",
       "      <td>0.0</td>\n",
       "      <td>0.0</td>\n",
       "    </tr>\n",
       "    <tr>\n",
       "      <th>Kingwood</th>\n",
       "      <td>0.0</td>\n",
       "      <td>0.0</td>\n",
       "    </tr>\n",
       "    <tr>\n",
       "      <th>Huffman</th>\n",
       "      <td>77336.0</td>\n",
       "      <td>12345.0</td>\n",
       "    </tr>\n",
       "    <tr>\n",
       "      <th>Hufsmith</th>\n",
       "      <td>0.0</td>\n",
       "      <td>0.0</td>\n",
       "    </tr>\n",
       "  </tbody>\n",
       "</table>\n",
       "</div>"
      ],
      "text/plain": [
       "                      Zipcode  Population_2011\n",
       "Cities_by_Zipcodes                            \n",
       "Houston             7396948.0        2842163.0\n",
       "North Houston             0.0              0.0\n",
       "Kingwood                  0.0              0.0\n",
       "Huffman               77336.0          12345.0\n",
       "Hufsmith                  0.0              0.0"
      ]
     },
     "execution_count": 203,
     "metadata": {},
     "output_type": "execute_result"
    }
   ],
   "source": [
    "bins = [77000, 77299, 77315, 77325, 77336, 77337, 77338, 77345, 77347, 77373, 77377, 77391, 77396, 77402, 77410, 77411, 77413, 77433, 77447, 77450, 77484, 77493, 77508, 77522, 77530, 77532, 77536, 77547, 77562, 77572, 77586, 77587, 77598]\n",
    "\n",
    "group_names = [\"Houston\", \"North Houston\", \"Kingwood\", \"Huffman\", \"Hufsmith\", \"Humble\", \"Kingwood2\", \"Humble2\", \"Spring\", \"Tomball\", \"Spring2\", \"Humble3\", \"Bellaire\", \"Cypress\", \"Alief\", \"Barker\", \"Cypress2\", \"Hockley\", \"Katy\", \"Waller\", \"Katy2\", \"Pasadena\", \"Baytown\", \"Channelview\", \"Crosby\", \"Deer Park\", \"Galena Park\", \"Highlands\", \"La Porte\", \"Seabrook\", \"South Houston\", \"Webster\"]\n",
    "\n",
    "census_pd1[\"Cities_by_Zipcodes\"] = pd.cut(census_pd1[\"Zipcode\"], bins, labels = group_names)\n",
    "\n",
    "#census_pd1\n",
    "\n",
    "grouped1 = census_pd1.groupby([\"Cities_by_Zipcodes\"])\n",
    "pop2011 = grouped1.sum()\n",
    "pop2011.sort_values(\"Population_2011\", ascending=False)\n",
    "pop2011.head()"
   ]
  },
  {
   "cell_type": "code",
   "execution_count": 204,
   "metadata": {},
   "outputs": [],
   "source": [
    "# Save as a csv\n",
    "# Note to avoid any issues later, use encoding=\"utf-8\"\n",
    "pop2011.to_csv(\"census_data_2011.csv\", columns=[\"Population_2011\"], encoding=\"utf-8\", index=True)"
   ]
  },
  {
   "cell_type": "code",
   "execution_count": null,
   "metadata": {},
   "outputs": [],
   "source": []
  }
 ],
 "metadata": {
  "anaconda-cloud": {},
  "kernelspec": {
   "display_name": "Python 3",
   "language": "python",
   "name": "python3"
  },
  "language_info": {
   "codemirror_mode": {
    "name": "ipython",
    "version": 3
   },
   "file_extension": ".py",
   "mimetype": "text/x-python",
   "name": "python",
   "nbconvert_exporter": "python",
   "pygments_lexer": "ipython3",
   "version": "3.7.3"
  }
 },
 "nbformat": 4,
 "nbformat_minor": 1
}
